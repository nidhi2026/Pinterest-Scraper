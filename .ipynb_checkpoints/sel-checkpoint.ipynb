{
 "cells": [
  {
   "cell_type": "code",
   "execution_count": 6,
   "id": "2023a800",
   "metadata": {},
   "outputs": [],
   "source": [
    "from selenium import webdriver\n",
    "from selenium.webdriver.common.by import By\n",
    "import time\n",
    "\n",
    "driver = webdriver.Chrome()\n",
    "driver.get(\"https://www.youtube.com/\")"
   ]
  },
  {
   "cell_type": "code",
   "execution_count": 7,
   "id": "74bcb8b5",
   "metadata": {},
   "outputs": [],
   "source": [
    "explore = driver.find_element(By.TAG_NAME, 'input')\n",
    "explore.send_keys('alan walker')"
   ]
  },
  {
   "cell_type": "code",
   "execution_count": 8,
   "id": "d259c924",
   "metadata": {},
   "outputs": [],
   "source": [
    "srch = driver.find_element(By.ID, 'search-icon-legacy')\n",
    "srch.click()"
   ]
  },
  {
   "cell_type": "code",
   "execution_count": 9,
   "id": "295b8550",
   "metadata": {},
   "outputs": [],
   "source": [
    "time.sleep(2)\n",
    "alan_walker = driver.find_element(By.ID, 'subscribers')\n",
    "alan_walker.click()"
   ]
  },
  {
   "cell_type": "code",
   "execution_count": null,
   "id": "8d37e213",
   "metadata": {},
   "outputs": [],
   "source": []
  }
 ],
 "metadata": {
  "kernelspec": {
   "display_name": "Python 3 (ipykernel)",
   "language": "python",
   "name": "python3"
  },
  "language_info": {
   "codemirror_mode": {
    "name": "ipython",
    "version": 3
   },
   "file_extension": ".py",
   "mimetype": "text/x-python",
   "name": "python",
   "nbconvert_exporter": "python",
   "pygments_lexer": "ipython3",
   "version": "3.11.3"
  }
 },
 "nbformat": 4,
 "nbformat_minor": 5
}
