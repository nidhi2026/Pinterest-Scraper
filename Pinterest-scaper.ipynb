{
 "cells": [
  {
   "cell_type": "code",
   "execution_count": 266,
   "id": "66747e99",
   "metadata": {},
   "outputs": [],
   "source": [
    "## WEB SCRAPING PINTEREST WITH SELENIUM ##"
   ]
  },
  {
   "cell_type": "code",
   "execution_count": 267,
   "id": "f563f083",
   "metadata": {},
   "outputs": [],
   "source": [
    "#Selenium imports here\n",
    "from selenium import webdriver\n",
    "from selenium.webdriver.chrome.service import Service\n",
    "from selenium.webdriver.common.keys import Keys\n",
    "from selenium.webdriver.support import expected_conditions as EC\n",
    "from selenium.webdriver.common.by import By\n",
    "from selenium.webdriver.support.wait import WebDriverWait"
   ]
  },
  {
   "cell_type": "code",
   "execution_count": 268,
   "id": "ffc709cf",
   "metadata": {},
   "outputs": [],
   "source": [
    "#Other imports here\n",
    "import os\n",
    "import wget\n",
    "import login\n",
    "import random"
   ]
  },
  {
   "cell_type": "code",
   "execution_count": 269,
   "id": "72a2b418",
   "metadata": {},
   "outputs": [],
   "source": [
    "#oeneing pinterest\n",
    "serve = Service(r\"F:/driveless/selenia/chromedriver.exe\")\n",
    "opt = webdriver.ChromeOptions()\n",
    "driver = webdriver.Chrome(service=serve, options=opt)\n",
    "driver.maximize_window()\n",
    "driver.get(\"https://www.pinterest.com/login/\")"
   ]
  },
  {
   "cell_type": "code",
   "execution_count": 270,
   "id": "244c6db7",
   "metadata": {},
   "outputs": [],
   "source": [
    "#logging in\n",
    "email = WebDriverWait(driver, 10).until(EC.element_to_be_clickable((By.CSS_SELECTOR, \"input[name='id']\")))\n",
    "password = WebDriverWait(driver, 10).until(EC.element_to_be_clickable((By.CSS_SELECTOR, \"input[name='password']\")))\n",
    "\n",
    "email.clear()\n",
    "password.clear()\n",
    "email.send_keys(login.ID)\n",
    "password.send_keys(login.PASSWORD)"
   ]
  },
  {
   "cell_type": "code",
   "execution_count": 271,
   "id": "be18552a",
   "metadata": {},
   "outputs": [],
   "source": [
    "log_in = WebDriverWait(driver, 10).until(EC.element_to_be_clickable((By.CSS_SELECTOR, \"button[class='red SignupButton active']\"))).click()"
   ]
  },
  {
   "cell_type": "code",
   "execution_count": 272,
   "id": "e4d8d098",
   "metadata": {},
   "outputs": [],
   "source": [
    "#list of favs\n",
    "fav_items = ['ice-cream', 'pokemon', 'shinchan', 'tea', 'coffee', 'amul', 'diamond', 'cute home', 'panda', 'cat', 'shahi panner', 'gulab jamun', 'fruit shakes', 'samosa', 'hats', 'violin', 'flowers', 'travel', 'chibis', 'laptop', 'hamster']\n",
    "random.shuffle(fav_items)"
   ]
  },
  {
   "cell_type": "code",
   "execution_count": 273,
   "id": "c32511e0",
   "metadata": {
    "scrolled": true
   },
   "outputs": [
    {
     "data": {
      "text/plain": [
       "['https://i.pinimg.com/236x/9d/5a/64/9d5a6483e2a96e8330f42aaeb0ff02bd.jpg',\n",
       " 'https://i.pinimg.com/236x/ec/0a/05/ec0a057351eff629b975b7f22a60654a.jpg',\n",
       " 'https://i.pinimg.com/236x/b5/1c/30/b51c30b86772da9b0948c66d69f76312.jpg',\n",
       " 'https://i.pinimg.com/236x/46/61/c3/4661c3988480db086636ab5a42ef4b25.jpg',\n",
       " 'https://i.pinimg.com/236x/20/a0/d1/20a0d14289abf01fa1ba37fb00af5b4c.jpg',\n",
       " 'https://i.pinimg.com/236x/66/1e/ec/661eecc0da6c98e6d2d307cc2cf033f3.jpg',\n",
       " 'https://i.pinimg.com/236x/bf/3a/b4/bf3ab486579585cca6461d15051e20e0.jpg',\n",
       " 'https://i.pinimg.com/236x/71/19/f0/7119f0549c81ca05cc2b778cab70c449.jpg',\n",
       " 'https://i.pinimg.com/236x/35/18/c3/3518c3a66c417a1f0180f71ff8e3991e.jpg']"
      ]
     },
     "execution_count": 273,
     "metadata": {},
     "output_type": "execute_result"
    }
   ],
   "source": [
    "# searching for favs\n",
    "\n",
    "#choice 1\n",
    "choice1 = fav_items[0]\n",
    "search = WebDriverWait(driver, 10).until(EC.element_to_be_clickable((By.XPATH, \"//input[@placeholder='Search']\")))\n",
    "search.clear()\n",
    "search.send_keys(choice1)\n",
    "length=len(choice1)\n",
    "search.send_keys(Keys.ENTER)\n",
    "\n",
    "driver.execute_script(\"window.scrollTo(0,2000);\")\n",
    "\n",
    "images = WebDriverWait(driver, 10).until(EC.element_to_be_clickable((By.TAG_NAME, \"img\")))\n",
    "images = driver.find_elements(By.TAG_NAME, 'img')\n",
    "images = images[:len(images)//2]\n",
    "images1 = [image.get_attribute('src') for image in images]\n",
    "\n",
    "images1"
   ]
  },
  {
   "cell_type": "code",
   "execution_count": 274,
   "id": "c5514b04",
   "metadata": {},
   "outputs": [
    {
     "data": {
      "text/plain": [
       "['https://i.pinimg.com/236x/ef/f7/b4/eff7b4dc8e91ec60810ab8a6a8cf4e79.jpg',\n",
       " 'https://i.pinimg.com/236x/9d/4e/a3/9d4ea38fbd327fae551767d83032a4ff.jpg',\n",
       " 'https://i.pinimg.com/236x/c6/b9/71/c6b971b149d0c380f3e5f06fec3d6331.jpg',\n",
       " 'https://i.pinimg.com/236x/b4/09/c6/b409c6f47a30cb3a0068d115cecc1302.jpg',\n",
       " 'https://i.pinimg.com/236x/05/4f/67/054f67c8d3f723fc721a88552b507cac.jpg',\n",
       " 'https://i.pinimg.com/236x/d2/d2/ab/d2d2ab5c83d5af75c28e17e13e419dfc.jpg',\n",
       " 'https://i.pinimg.com/236x/bd/c5/c6/bdc5c60ab2501ecbb888028b3d614975.jpg',\n",
       " 'https://i.pinimg.com/236x/05/c7/60/05c76080aed337c072d89c3400708d68.jpg']"
      ]
     },
     "execution_count": 274,
     "metadata": {},
     "output_type": "execute_result"
    }
   ],
   "source": [
    "#choice 2\n",
    "choice2 = fav_items[random.randint(1,len(fav_items)-1)]\n",
    "\n",
    "for l in range(length):\n",
    "    search.send_keys(Keys.BACKSPACE)\n",
    "\n",
    "search.send_keys(choice2)\n",
    "search.send_keys(Keys.ENTER)\n",
    "\n",
    "driver.execute_script(\"window.scrollTo(0,2000);\")\n",
    "\n",
    "images = WebDriverWait(driver, 10).until(EC.element_to_be_clickable((By.TAG_NAME, \"img\")))\n",
    "images = driver.find_elements(By.TAG_NAME, 'img')\n",
    "images = images[:len(images)//2]\n",
    "images2 = [image.get_attribute('src') for image in images]\n",
    "\n",
    "images2"
   ]
  },
  {
   "cell_type": "code",
   "execution_count": 275,
   "id": "8250b4a4",
   "metadata": {},
   "outputs": [],
   "source": [
    "#creating folder for fav-space\n",
    "path = os.getcwd()\n",
    "path = os.path.join(path, 'favs')\n",
    "\n",
    "# once ran this program, that path directory already exists, so comment it out\n",
    "os.mkdir(path)"
   ]
  },
  {
   "cell_type": "code",
   "execution_count": 276,
   "id": "4287b8c4",
   "metadata": {},
   "outputs": [
    {
     "name": "stdout",
     "output_type": "stream",
     "text": [
      "F:\\driveless\\selenia\\favs\\panda\n",
      "F:\\driveless\\selenia\\favs\\shinchan\n"
     ]
    }
   ],
   "source": [
    "#creating sub-folder for each interest\n",
    "choice1_path = os.path.join(path, choice1)\n",
    "choice2_path = os.path.join(path, choice2)\n",
    "\n",
    "os.mkdir(choice1_path)\n",
    "os.mkdir(choice2_path)\n",
    "print(choice1_path)\n",
    "print(choice2_path)"
   ]
  },
  {
   "cell_type": "code",
   "execution_count": 277,
   "id": "1ce0ded3",
   "metadata": {},
   "outputs": [
    {
     "name": "stdout",
     "output_type": "stream",
     "text": [
      "100% [..............................................................................] 10223 / 10223"
     ]
    }
   ],
   "source": [
    "# downloading images\n",
    "counter = 0\n",
    "for image in images1:\n",
    "    save_as = os.path.join(choice1_path, choice1+str(counter)+'.jpg')\n",
    "    wget.download(image, save_as)\n",
    "    counter+=1\n",
    "    \n",
    "counter = 0\n",
    "for image in images2:\n",
    "    save_as = os.path.join(choice2_path, choice2+str(counter)+'.jpg')\n",
    "    wget.download(image, save_as)\n",
    "    counter+=1"
   ]
  }
 ],
 "metadata": {
  "kernelspec": {
   "display_name": "Python 3 (ipykernel)",
   "language": "python",
   "name": "python3"
  },
  "language_info": {
   "codemirror_mode": {
    "name": "ipython",
    "version": 3
   },
   "file_extension": ".py",
   "mimetype": "text/x-python",
   "name": "python",
   "nbconvert_exporter": "python",
   "pygments_lexer": "ipython3",
   "version": "3.11.3"
  }
 },
 "nbformat": 4,
 "nbformat_minor": 5
}
